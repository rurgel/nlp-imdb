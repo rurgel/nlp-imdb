{
 "cells": [
  {
   "cell_type": "markdown",
   "metadata": {},
   "source": [
    "# Classificação do gênero de filmes baseado em seu resumo\n",
    "\n",
    "Rafael Gurgel\n",
    "\n",
    "###### &nbsp;&nbsp;&nbsp;&nbsp;&nbsp;&nbsp;&nbsp;&nbsp;[Linkedin](https://linkedin.com/in/rafaelgurgel)\n",
    "\n",
    "###### &nbsp;&nbsp;&nbsp;&nbsp;&nbsp;&nbsp;&nbsp;&nbsp;[Github](https://github.com/rurgel)\n",
    "\n",
    "\n",
    "###### Julho 2022"
   ]
  },
  {
   "cell_type": "markdown",
   "metadata": {},
   "source": [
    "### Configuração do ambiente"
   ]
  },
  {
   "cell_type": "markdown",
   "metadata": {},
   "source": [
    "#### Importação das bibliotecas necessárias"
   ]
  },
  {
   "cell_type": "code",
   "execution_count": 1,
   "metadata": {},
   "outputs": [],
   "source": [
    "import os                                                   # Controle das variáveis do sistema\n",
    "import pandas as pd                                         # Manipulação de dataframes\n",
    "from sklearn.model_selection import train_test_split        # Divide a base em conjuntos de treino e teste\n",
    "from tensorflow.keras.preprocessing.text import Tokenizer   # Classe para tokenização\n",
    "import pickle                                               # Salvar estruturas\n",
    "from tensorflow.keras.callbacks import EarlyStopping        # Critério de parada de treinamento para evitar Overfitting\n",
    "from tensorflow.keras.callbacks import ModelCheckpoint      # Salva o melhor modelo intermediário\n",
    "import matplotlib.pyplot as plt                             # Biblioteca gráfica\n",
    "from itertools import compress                              # Indexação booleana em lista (usado nos testes)\n",
    "from tensorflow.nn import softmax                           # Normalizar probabilidades multiclasse\n",
    "#---------------------------------------------------------  # Bibliotecas desenvolvidas\n",
    "from src.get_target import target                           # Processa o target e separa por categorias\n",
    "from src.nl_tools   import limpa_texto                      # Pré-processamento de Texto\n",
    "from src.nl_tools   import gera_tokens                      # Tokenização e Padding \n",
    "from src.nl_models import nn_model                          # Modelo de rede neural para NLP "
   ]
  },
  {
   "cell_type": "markdown",
   "metadata": {},
   "source": [
    "#### Definição de constantes"
   ]
  },
  {
   "cell_type": "code",
   "execution_count": 2,
   "metadata": {},
   "outputs": [],
   "source": [
    "NUMERO_PALAVRAS = 2048\n",
    "OOV_TOKEN = \"<UNK>\"\n",
    "\n",
    "os.environ[\"TF_CPP_MIN_LOG_LEVEL\"] = \"3\"\n",
    "%matplotlib inline"
   ]
  },
  {
   "cell_type": "markdown",
   "metadata": {},
   "source": [
    "#### Carregamento dos dados"
   ]
  },
  {
   "cell_type": "markdown",
   "metadata": {},
   "source": [
    "Os dados foram obtidos via internet a partir do arquivo ``scrap.py`` desenvolvido para baixar algumas páginas selecionadas no IMDB. Os dados já foram previamente pré-processados, identificados no idioma portugês ou então traduzido automaticamente e aplicada a lematização reduzindo palavras ao seu radical."
   ]
  },
  {
   "cell_type": "code",
   "execution_count": 3,
   "metadata": {},
   "outputs": [],
   "source": [
    "filmes = pd.read_csv('data/processed/imdb_pt_lemma.csv', sep=';')"
   ]
  },
  {
   "cell_type": "markdown",
   "metadata": {},
   "source": [
    "### Análise do dados"
   ]
  },
  {
   "cell_type": "code",
   "execution_count": 4,
   "metadata": {},
   "outputs": [
    {
     "data": {
      "text/html": [
       "<div>\n",
       "<style scoped>\n",
       "    .dataframe tbody tr th:only-of-type {\n",
       "        vertical-align: middle;\n",
       "    }\n",
       "\n",
       "    .dataframe tbody tr th {\n",
       "        vertical-align: top;\n",
       "    }\n",
       "\n",
       "    .dataframe thead th {\n",
       "        text-align: right;\n",
       "    }\n",
       "</style>\n",
       "<table border=\"1\" class=\"dataframe\">\n",
       "  <thead>\n",
       "    <tr style=\"text-align: right;\">\n",
       "      <th></th>\n",
       "      <th>Título</th>\n",
       "      <th>Descrição IMDB</th>\n",
       "      <th>Gênero</th>\n",
       "      <th>Nota</th>\n",
       "      <th>Descrição</th>\n",
       "    </tr>\n",
       "  </thead>\n",
       "  <tbody>\n",
       "    <tr>\n",
       "      <th>0</th>\n",
       "      <td>O Quarto do Pânico</td>\n",
       "      <td>Uma trintona divorciada e a sua filha são apan...</td>\n",
       "      <td>Policial,Drama,Suspense</td>\n",
       "      <td>6.8</td>\n",
       "      <td>um trintona divorciar e o seu filha ser apanha...</td>\n",
       "    </tr>\n",
       "    <tr>\n",
       "      <th>1</th>\n",
       "      <td>Pinte de Açafrão</td>\n",
       "      <td>A história de seis jovens índios que ajudam um...</td>\n",
       "      <td>Comédia,Policial,Drama</td>\n",
       "      <td>8.1</td>\n",
       "      <td>o história de seis jovem índio que ajudar um i...</td>\n",
       "    </tr>\n",
       "    <tr>\n",
       "      <th>2</th>\n",
       "      <td>Adeus, Minha Rainha</td>\n",
       "      <td>Um olhar sobre a relação platônica entre Maria...</td>\n",
       "      <td>Drama,História,Romance</td>\n",
       "      <td>6.2</td>\n",
       "      <td>um olhar sobre o relação platônico entre Maria...</td>\n",
       "    </tr>\n",
       "    <tr>\n",
       "      <th>3</th>\n",
       "      <td>Paddleton</td>\n",
       "      <td>Uma amizade improvável entre dois vizinhos des...</td>\n",
       "      <td>Comédia,Drama</td>\n",
       "      <td>7.1</td>\n",
       "      <td>um amizade improvável entre dois vizinho desaj...</td>\n",
       "    </tr>\n",
       "    <tr>\n",
       "      <th>4</th>\n",
       "      <td>ATL: O Som Do Gueto</td>\n",
       "      <td>Enquanto quatro amigos se preparam para a vida...</td>\n",
       "      <td>Comédia,Policial,Drama</td>\n",
       "      <td>6.1</td>\n",
       "      <td>enquanto quatro amigo se preparar para o vida ...</td>\n",
       "    </tr>\n",
       "    <tr>\n",
       "      <th>...</th>\n",
       "      <td>...</td>\n",
       "      <td>...</td>\n",
       "      <td>...</td>\n",
       "      <td>...</td>\n",
       "      <td>...</td>\n",
       "    </tr>\n",
       "    <tr>\n",
       "      <th>9765</th>\n",
       "      <td>L'odore della notte</td>\n",
       "      <td>Um ex-policial vira criminoso em tempo integra...</td>\n",
       "      <td>Policial,Drama,Suspense</td>\n",
       "      <td>6.9</td>\n",
       "      <td>um ex-policial ver criminoso em tempo integral...</td>\n",
       "    </tr>\n",
       "    <tr>\n",
       "      <th>9766</th>\n",
       "      <td>Os que Sabem Morrer</td>\n",
       "      <td>Durante a Guerra da Coréia, um tenente desgast...</td>\n",
       "      <td>Ação,Drama,Guerra</td>\n",
       "      <td>7.2</td>\n",
       "      <td>durante o Guerra de o Coréia, um tenente desga...</td>\n",
       "    </tr>\n",
       "    <tr>\n",
       "      <th>9767</th>\n",
       "      <td>A Herança de Mr. Deeds</td>\n",
       "      <td>Um garoto da cidade e de natureza gentil começ...</td>\n",
       "      <td>Comédia,Romance</td>\n",
       "      <td>5.8</td>\n",
       "      <td>um garoto de o cidade e de natureza gentil com...</td>\n",
       "    </tr>\n",
       "    <tr>\n",
       "      <th>9768</th>\n",
       "      <td>A Estrada Interior</td>\n",
       "      <td>Um jovem com síndrome de Tourette embarca em u...</td>\n",
       "      <td>Aventura,Comédia,Drama</td>\n",
       "      <td>7.0</td>\n",
       "      <td>um jovem com síndrome de Tourette embarcar em ...</td>\n",
       "    </tr>\n",
       "    <tr>\n",
       "      <th>9769</th>\n",
       "      <td>Um Alguém Apaixonado</td>\n",
       "      <td>Em Tóquio, um jovem trabalhador do sexo desenv...</td>\n",
       "      <td>Drama</td>\n",
       "      <td>7.0</td>\n",
       "      <td>em Tóquio, um jovem trabalhador de o sexo dese...</td>\n",
       "    </tr>\n",
       "  </tbody>\n",
       "</table>\n",
       "<p>9770 rows × 5 columns</p>\n",
       "</div>"
      ],
      "text/plain": [
       "                      Título  \\\n",
       "0         O Quarto do Pânico   \n",
       "1           Pinte de Açafrão   \n",
       "2        Adeus, Minha Rainha   \n",
       "3                  Paddleton   \n",
       "4        ATL: O Som Do Gueto   \n",
       "...                      ...   \n",
       "9765     L'odore della notte   \n",
       "9766     Os que Sabem Morrer   \n",
       "9767  A Herança de Mr. Deeds   \n",
       "9768      A Estrada Interior   \n",
       "9769    Um Alguém Apaixonado   \n",
       "\n",
       "                                         Descrição IMDB  \\\n",
       "0     Uma trintona divorciada e a sua filha são apan...   \n",
       "1     A história de seis jovens índios que ajudam um...   \n",
       "2     Um olhar sobre a relação platônica entre Maria...   \n",
       "3     Uma amizade improvável entre dois vizinhos des...   \n",
       "4     Enquanto quatro amigos se preparam para a vida...   \n",
       "...                                                 ...   \n",
       "9765  Um ex-policial vira criminoso em tempo integra...   \n",
       "9766  Durante a Guerra da Coréia, um tenente desgast...   \n",
       "9767  Um garoto da cidade e de natureza gentil começ...   \n",
       "9768  Um jovem com síndrome de Tourette embarca em u...   \n",
       "9769  Em Tóquio, um jovem trabalhador do sexo desenv...   \n",
       "\n",
       "                       Gênero  Nota  \\\n",
       "0     Policial,Drama,Suspense   6.8   \n",
       "1      Comédia,Policial,Drama   8.1   \n",
       "2      Drama,História,Romance   6.2   \n",
       "3               Comédia,Drama   7.1   \n",
       "4      Comédia,Policial,Drama   6.1   \n",
       "...                       ...   ...   \n",
       "9765  Policial,Drama,Suspense   6.9   \n",
       "9766        Ação,Drama,Guerra   7.2   \n",
       "9767          Comédia,Romance   5.8   \n",
       "9768   Aventura,Comédia,Drama   7.0   \n",
       "9769                    Drama   7.0   \n",
       "\n",
       "                                              Descrição  \n",
       "0     um trintona divorciar e o seu filha ser apanha...  \n",
       "1     o história de seis jovem índio que ajudar um i...  \n",
       "2     um olhar sobre o relação platônico entre Maria...  \n",
       "3     um amizade improvável entre dois vizinho desaj...  \n",
       "4     enquanto quatro amigo se preparar para o vida ...  \n",
       "...                                                 ...  \n",
       "9765  um ex-policial ver criminoso em tempo integral...  \n",
       "9766  durante o Guerra de o Coréia, um tenente desga...  \n",
       "9767  um garoto de o cidade e de natureza gentil com...  \n",
       "9768  um jovem com síndrome de Tourette embarcar em ...  \n",
       "9769  em Tóquio, um jovem trabalhador de o sexo dese...  \n",
       "\n",
       "[9770 rows x 5 columns]"
      ]
     },
     "metadata": {},
     "output_type": "display_data"
    }
   ],
   "source": [
    "display(filmes)"
   ]
  },
  {
   "cell_type": "markdown",
   "metadata": {},
   "source": [
    "A função ``target`` foi desenvolvida com o objetivo de converter o texto relacionado ao gênero do filme para um conjunto de variáveis _dummies_. É importante observar que um filme pode possuir múltiplos gêneros.\n",
    "\n",
    "Em seguida, analisa-se a proporção dos gêneros dos filmes observadas no conjunto de dados."
   ]
  },
  {
   "cell_type": "code",
   "execution_count": 5,
   "metadata": {},
   "outputs": [
    {
     "data": {
      "image/png": "[encoded data removed]",
      "text/plain": [
       "<Figure size 432x288 with 1 Axes>"
      ]
     },
     "metadata": {
      "needs_background": "light"
     },
     "output_type": "display_data"
    }
   ],
   "source": [
    "y, genero = target(filmes)\n",
    "top_gen = pd.DataFrame(y, columns=genero).sum().astype(int).sort_values(ascending=False)\n",
    "top_gen.plot(kind='bar', color='#273c75');"
   ]
  },
  {
   "cell_type": "markdown",
   "metadata": {},
   "source": [
    "Há um considerável desbalanceamento de classes. Com o objetivo de simplificar e evitar alternativas de reamostragem que leva em conta a multiplicidade de gêneros, as classes mais raras não serão modeladas.\n",
    "\n",
    "Nesse caso, serão considerados apenas os 10 gêneros mais frequentes."
   ]
  },
  {
   "cell_type": "code",
   "execution_count": 6,
   "metadata": {},
   "outputs": [],
   "source": [
    "genero = list(top_gen.index[:10])\n",
    "y = target(filmes, genero=genero)[0]"
   ]
  },
  {
   "cell_type": "code",
   "execution_count": 7,
   "metadata": {},
   "outputs": [
    {
     "name": "stdout",
     "output_type": "stream",
     "text": [
      "Percentual dos gêneros dos filmes:\n",
      "Drama       61.4%\n",
      "Comédia     34.0%\n",
      "Policial    19.7%\n",
      "Romance     18.9%\n",
      "Ação        18.1%\n",
      "Suspense    14.9%\n",
      "Aventura    11.8%\n",
      "Terror      10.2%\n",
      "Mistério     8.8%\n",
      "Fantasia     6.3%\n"
     ]
    }
   ],
   "source": [
    "print('Percentual dos gêneros dos filmes:',\n",
    "      pd.DataFrame( y, columns=genero)\n",
    "            .mean()\n",
    "            .apply(lambda x: f'{100*x:.1f}%')\n",
    "            .to_string(),\n",
    "    sep='\\n')"
   ]
  },
  {
   "cell_type": "markdown",
   "metadata": {},
   "source": [
    "É importante ressaltar que ainda há um desbalanceamento considerável, entretanto como esse é um projeto com fins didáticos, não serão analisadas questões de imputação de informações ou aplicação de pesos devido a complexidade dessa situação de múltiplas classes em sobreposiçãao.\n",
    "\n",
    "\n"
   ]
  },
  {
   "cell_type": "markdown",
   "metadata": {},
   "source": [
    "#### Processa o texto e calcula as features"
   ]
  },
  {
   "cell_type": "code",
   "execution_count": 8,
   "metadata": {},
   "outputs": [],
   "source": [
    "X = limpa_texto(filmes)\n",
    "# Divide em conjuntos de treino e teste\n",
    "train_x, test_x, \\\n",
    "train_y, test_y, \\\n",
    "train_t, test_t, \\\n",
    "train_d, test_d = train_test_split( X, y, \n",
    "                                    filmes['Título'], filmes['Descrição IMDB'],\n",
    "                                    test_size=0.2, random_state=42)\n",
    "# Tokenização\n",
    "tokenizer = Tokenizer( oov_token=OOV_TOKEN, \n",
    "                       num_words=NUMERO_PALAVRAS,\n",
    "                       lower=True)\n",
    "# Ajusta para o conjunto de treino\n",
    "tokenizer.fit_on_texts(train_x)\n",
    "# Salva o modelo\n",
    "with open('data/model/tokenizer.pickle', 'wb') as handle:\n",
    "    pickle.dump(tokenizer, handle)\n",
    "# Gera a sequência\n",
    "train_x = gera_tokens(tokenizer, train_x)\n",
    "test_x  = gera_tokens(tokenizer, test_x, padding_len=train_x.shape[1])"
   ]
  },
  {
   "cell_type": "markdown",
   "metadata": {},
   "source": [
    "### Treinamento do modelo"
   ]
  },
  {
   "cell_type": "code",
   "execution_count": 9,
   "metadata": {},
   "outputs": [
    {
     "name": "stdout",
     "output_type": "stream",
     "text": [
      "Epoch 1/100\n",
      "31/31 [==============================] - 16s 183ms/step - loss: 1.6730 - AUC: 0.5053 - val_loss: 1.4085 - val_AUC: 0.4928\n",
      "Epoch 2/100\n",
      "31/31 [==============================] - 3s 84ms/step - loss: 1.2621 - AUC: 0.5136 - val_loss: 1.0455 - val_AUC: 0.4876\n",
      "Epoch 3/100\n",
      "31/31 [==============================] - 3s 84ms/step - loss: 0.9821 - AUC: 0.5116 - val_loss: 0.8526 - val_AUC: 0.5035\n",
      "Epoch 4/100\n",
      "31/31 [==============================] - 3s 83ms/step - loss: 0.8585 - AUC: 0.5192 - val_loss: 0.7969 - val_AUC: 0.5173\n",
      "Epoch 5/100\n",
      "31/31 [==============================] - 3s 82ms/step - loss: 0.8105 - AUC: 0.5302 - val_loss: 0.7798 - val_AUC: 0.5364\n",
      "Epoch 6/100\n",
      "31/31 [==============================] - 3s 82ms/step - loss: 0.7885 - AUC: 0.5544 - val_loss: 0.7688 - val_AUC: 0.5811\n",
      "Epoch 7/100\n",
      "31/31 [==============================] - 3s 83ms/step - loss: 0.7663 - AUC: 0.5997 - val_loss: 0.7624 - val_AUC: 0.5862\n",
      "Epoch 8/100\n",
      "31/31 [==============================] - 3s 82ms/step - loss: 0.7513 - AUC: 0.6309 - val_loss: 0.7694 - val_AUC: 0.5896\n",
      "Epoch 9/100\n",
      "31/31 [==============================] - 3s 82ms/step - loss: 0.7460 - AUC: 0.6645 - val_loss: 0.7703 - val_AUC: 0.6362\n",
      "Epoch 10/100\n",
      "31/31 [==============================] - 3s 82ms/step - loss: 0.7324 - AUC: 0.7054 - val_loss: 0.7688 - val_AUC: 0.6809\n",
      "Epoch 11/100\n",
      "31/31 [==============================] - 3s 83ms/step - loss: 0.7238 - AUC: 0.7392 - val_loss: 0.7676 - val_AUC: 0.6723\n",
      "Epoch 12/100\n",
      "31/31 [==============================] - 3s 83ms/step - loss: 0.7081 - AUC: 0.7651 - val_loss: 0.7556 - val_AUC: 0.7078\n",
      "Epoch 13/100\n",
      "31/31 [==============================] - 2s 77ms/step - loss: 0.7010 - AUC: 0.7846 - val_loss: 0.7586 - val_AUC: 0.6978\n",
      "Epoch 14/100\n",
      "31/31 [==============================] - 2s 80ms/step - loss: 0.7018 - AUC: 0.8069 - val_loss: 0.7628 - val_AUC: 0.7131\n",
      "Epoch 15/100\n",
      "31/31 [==============================] - 3s 83ms/step - loss: 0.7039 - AUC: 0.8170 - val_loss: 0.7638 - val_AUC: 0.7311\n",
      "Epoch 16/100\n",
      "31/31 [==============================] - 3s 84ms/step - loss: 0.7067 - AUC: 0.8332 - val_loss: 0.7484 - val_AUC: 0.7406\n",
      "Epoch 17/100\n",
      "31/31 [==============================] - 3s 91ms/step - loss: 0.7045 - AUC: 0.8511 - val_loss: 0.7499 - val_AUC: 0.7360\n",
      "Epoch 18/100\n",
      "31/31 [==============================] - 2s 80ms/step - loss: 0.7100 - AUC: 0.8567 - val_loss: 0.7522 - val_AUC: 0.7536\n",
      "Epoch 19/100\n",
      "31/31 [==============================] - 3s 81ms/step - loss: 0.7049 - AUC: 0.8712 - val_loss: 0.7509 - val_AUC: 0.7506\n",
      "Epoch 20/100\n",
      "31/31 [==============================] - 3s 82ms/step - loss: 0.7061 - AUC: 0.8799 - val_loss: 0.7553 - val_AUC: 0.7590\n",
      "Epoch 21/100\n",
      "31/31 [==============================] - 2s 78ms/step - loss: 0.6966 - AUC: 0.8894 - val_loss: 0.7498 - val_AUC: 0.7568\n",
      "Epoch 00021: early stopping\n"
     ]
    }
   ],
   "source": [
    "model = nn_model(train_x.shape[1], train_y.shape[1], NUMERO_PALAVRAS)\n",
    "\n",
    "es = EarlyStopping( monitor='val_loss', \n",
    "                    mode='min', \n",
    "                    patience=5,\n",
    "                    verbose=1)\n",
    "mc = ModelCheckpoint( 'data/model/best_model.h5', \n",
    "                      monitor='val_loss', \n",
    "                      mode='min', \n",
    "                      save_best_only=True)\n",
    "\n",
    "history = model.fit( train_x, train_y,\n",
    "                     validation_data=(test_x, test_y),\n",
    "                     batch_size=256, epochs=100, verbose=1,\n",
    "                     callbacks=[es,mc]);"
   ]
  },
  {
   "cell_type": "code",
   "execution_count": 10,
   "metadata": {},
   "outputs": [
    {
     "data": {
      "image/png": "[encoded data removed]",
      "text/plain": [
       "<Figure size 1080x360 with 2 Axes>"
      ]
     },
     "metadata": {
      "needs_background": "light"
     },
     "output_type": "display_data"
    }
   ],
   "source": [
    "performance = pd.DataFrame(history.history)\n",
    "fig,ax = plt.subplots(1,2, figsize=[15,5])\n",
    "performance.filter(regex='loss').plot(ax=ax[0], title='Custo', xlabel='Época')\n",
    "performance.filter(regex='AUC').plot(ax=ax[1], title='Área sob a curva ROC', xlabel='Época')\n",
    "plt.show();"
   ]
  },
  {
   "cell_type": "markdown",
   "metadata": {},
   "source": [
    "A performence do modelo treinado no conjunto de dados de validação baseado na área sob a curva ROC (média entre todos os gêneros) foi de aproximadamente 0.76 que é um bom resultado considerando o desbalanceamento entre as 10 classes."
   ]
  },
  {
   "cell_type": "markdown",
   "metadata": {},
   "source": [
    "#### Calibração do modelo"
   ]
  },
  {
   "cell_type": "code",
   "execution_count": 11,
   "metadata": {},
   "outputs": [],
   "source": [
    "# Carrega o modelo inicialmente treinado por reproducibilidade\n",
    "from keras.models import load_model\n",
    "model = load_model('data/model/model.h5')\n",
    "\n",
    "pred = model.predict(train_x)\n",
    "from sklearn.isotonic import IsotonicRegression as IR\n",
    "calib = list()\n",
    "for i in range(train_y.shape[1]):\n",
    "    calib.append(IR(out_of_bounds='clip'))\n",
    "    calib[-1].fit(pred[:,i],train_y[:,i])"
   ]
  },
  {
   "cell_type": "markdown",
   "metadata": {},
   "source": [
    "### Teste de performance\n",
    "\n",
    "A seguir serão exibidos os resultados do classificador para alguns filmes do conjunto de **teste**."
   ]
  },
  {
   "cell_type": "code",
   "execution_count": 12,
   "metadata": {},
   "outputs": [],
   "source": [
    "def resultado_classificador(titulo):\n",
    "    try:\n",
    "        idx = list(test_t.str.lower()).index(titulo.lower())\n",
    "    except Exception:\n",
    "        print('Filme não encontrado no conjunto de teste.')\n",
    "        return\n",
    "    pred = model.predict(test_x[[idx]])\n",
    "    for i,zp in enumerate(zip(pred,calib)):\n",
    "        yp,ir = zp\n",
    "        pred[i] =ir.transform(yp)\n",
    "    print(test_d.iloc[idx], end= '\\n\\n\\n')\n",
    "    out = pd.Series(pred[0], index=genero).sort_values(ascending=False)\n",
    "    out=out[out>0.05]\n",
    "    out.values[:] = 100*(softmax(out).numpy())\n",
    "    out = out.apply(lambda x: f'{x:.0f}%')\n",
    "    print('Classificador:')\n",
    "    print(out.to_string())\n",
    "    print('\\nTrue labels:', end=' ')\n",
    "    print(*list(compress(genero, test_y[idx]==1)), sep=', ', end='.')"
   ]
  },
  {
   "cell_type": "code",
   "execution_count": 13,
   "metadata": {},
   "outputs": [
    {
     "name": "stdout",
     "output_type": "stream",
     "text": [
      "Depois de ficar preso em uma caverna afegã, o engenheiro multimilionário Tony Stark cria uma armadura única para combater o mal.\n",
      "\n",
      "\n",
      "Classificador:\n",
      "Comédia     34%\n",
      "Ação        26%\n",
      "Aventura    24%\n",
      "Drama       16%\n",
      "\n",
      "True labels: Ação, Aventura."
     ]
    }
   ],
   "source": [
    "resultado_classificador('Homem de Ferro')"
   ]
  },
  {
   "cell_type": "code",
   "execution_count": 14,
   "metadata": {},
   "outputs": [
    {
     "name": "stdout",
     "output_type": "stream",
     "text": [
      "As aventuras de um massagista cego de jogo que também é um mestre espadachim.\n",
      "\n",
      "\n",
      "Classificador:\n",
      "Comédia     31%\n",
      "Drama       26%\n",
      "Ação        22%\n",
      "Aventura    21%\n",
      "\n",
      "True labels: Drama, Ação, Aventura."
     ]
    }
   ],
   "source": [
    "resultado_classificador('O conto de Zatoichi')"
   ]
  },
  {
   "cell_type": "code",
   "execution_count": 15,
   "metadata": {},
   "outputs": [
    {
     "name": "stdout",
     "output_type": "stream",
     "text": [
      "Um grupo de ladrões de diamantes em fuga sequestra a esposa de um fuzileiro naval recentemente dispensado, que sai em perseguição deles, no meio da natureza selvagem da Carolina do Sul, para resgatá-la.\n",
      "\n",
      "\n",
      "Classificador:\n",
      "Ação        31%\n",
      "Policial    19%\n",
      "Drama       17%\n",
      "Suspense    17%\n",
      "Comédia     15%\n",
      "\n",
      "True labels: Drama, Comédia, Ação."
     ]
    }
   ],
   "source": [
    "resultado_classificador('Busca Explosiva')"
   ]
  },
  {
   "cell_type": "code",
   "execution_count": 16,
   "metadata": {},
   "outputs": [
    {
     "name": "stdout",
     "output_type": "stream",
     "text": [
      "Adaptação de desenhos animados do romance de aventura mais famoso de Robert Louis Stevenson.\n",
      "\n",
      "\n",
      "Classificador:\n",
      "Comédia     65%\n",
      "Aventura    35%\n",
      "\n",
      "True labels: Comédia, Aventura."
     ]
    }
   ],
   "source": [
    "resultado_classificador('Ostrov Sokrovishch')"
   ]
  },
  {
   "cell_type": "code",
   "execution_count": 17,
   "metadata": {},
   "outputs": [
    {
     "name": "stdout",
     "output_type": "stream",
     "text": [
      "Um repórter ambicioso se mete em problemas enquanto investiga o assassinato de um senador que leva a uma vasta conspiração envolvendo uma corporação multinacional por trás de cada evento no mundo.\n",
      "\n",
      "\n",
      "Classificador:\n",
      "Policial    27%\n",
      "Drama       23%\n",
      "Comédia     20%\n",
      "Ação        18%\n",
      "Suspense    13%\n",
      "\n",
      "True labels: Drama, Suspense."
     ]
    }
   ],
   "source": [
    "resultado_classificador('A trama')"
   ]
  },
  {
   "cell_type": "code",
   "execution_count": 18,
   "metadata": {},
   "outputs": [
    {
     "name": "stdout",
     "output_type": "stream",
     "text": [
      "Harrison Ford é Linus Larrabee, um magnata sem tempo para o amor. Quando um romance entre seu irmão playboy e Sabrina, filha do motorista da família, ameaça um dos negócios de Linus, ele revê sua agenda.\n",
      "\n",
      "\n",
      "Classificador:\n",
      "Comédia    41%\n",
      "Drama      40%\n",
      "Romance    19%\n",
      "\n",
      "True labels: Drama, Comédia, Romance."
     ]
    }
   ],
   "source": [
    "resultado_classificador('Sabrina')"
   ]
  },
  {
   "cell_type": "code",
   "execution_count": 19,
   "metadata": {},
   "outputs": [
    {
     "name": "stdout",
     "output_type": "stream",
     "text": [
      "Um ex-presidiário e seu irmão Crook Brook lutam pela mesma mulher.\n",
      "\n",
      "\n",
      "Classificador:\n",
      "Drama       47%\n",
      "Comédia     34%\n",
      "Policial    19%\n",
      "\n",
      "True labels: Drama, Comédia, Policial."
     ]
    }
   ],
   "source": [
    "resultado_classificador('Paixão bandida')"
   ]
  },
  {
   "cell_type": "code",
   "execution_count": 20,
   "metadata": {},
   "outputs": [
    {
     "name": "stdout",
     "output_type": "stream",
     "text": [
      "Após serem exilados de sua tribo, dois caçadores-coletores se encontram com personagens bíblicos e finalmente terminam na cidade de Sodoma.\n",
      "\n",
      "\n",
      "Classificador:\n",
      "Comédia     41%\n",
      "Drama       21%\n",
      "Aventura    20%\n",
      "Fantasia    17%\n",
      "\n",
      "True labels: Comédia."
     ]
    }
   ],
   "source": [
    "resultado_classificador('Ano Um')"
   ]
  },
  {
   "cell_type": "code",
   "execution_count": 21,
   "metadata": {},
   "outputs": [
    {
     "name": "stdout",
     "output_type": "stream",
     "text": [
      "Um grupo de estudantes investiga uma série de misteriosas mortes de ursos, porém descobrem que há coisas muito mais perigosas acontecendo. Eles começam a seguir um caçador misterioso, descobrindo que ele é um caçador de tróis.\n",
      "\n",
      "\n",
      "Classificador:\n",
      "Terror      30%\n",
      "Suspense    19%\n",
      "Drama       17%\n",
      "Mistério    17%\n",
      "Fantasia    16%\n",
      "\n",
      "True labels: Drama, Terror, Fantasia."
     ]
    }
   ],
   "source": [
    "resultado_classificador('O caçador de troll')"
   ]
  },
  {
   "cell_type": "code",
   "execution_count": 22,
   "metadata": {},
   "outputs": [
    {
     "name": "stdout",
     "output_type": "stream",
     "text": [
      "Estranhos presos em um oásis de viagens misteriosos no deserto devem desvendar o mistério por trás de suas visões de morrer as pessoas enquanto são atacadas por uma criatura em decomposição.\n",
      "\n",
      "\n",
      "Classificador:\n",
      "Terror      36%\n",
      "Suspense    25%\n",
      "Drama       21%\n",
      "Mistério    18%\n",
      "\n",
      "True labels: Suspense, Terror, Mistério."
     ]
    }
   ],
   "source": [
    "resultado_classificador('Pânico no Deserto')"
   ]
  },
  {
   "cell_type": "code",
   "execution_count": 23,
   "metadata": {},
   "outputs": [
    {
     "name": "stdout",
     "output_type": "stream",
     "text": [
      "Um repórter de televisão e um cinegrafista seguem uma equipe de emergência para um prédio escuro e rapidamente ficam presos dentro de algo assustador\n",
      "\n",
      "\n",
      "Classificador:\n",
      "Suspense    31%\n",
      "Terror      31%\n",
      "Drama       19%\n",
      "Mistério    19%\n",
      "\n",
      "True labels: Suspense, Terror, Mistério."
     ]
    }
   ],
   "source": [
    "resultado_classificador('[REC]')"
   ]
  }
 ],
 "metadata": {
  "kernelspec": {
   "display_name": "Python 3.9.7 ('cuda')",
   "language": "python",
   "name": "python3"
  },
  "language_info": {
   "codemirror_mode": {
    "name": "ipython",
    "version": 3
   },
   "file_extension": ".py",
   "mimetype": "text/x-python",
   "name": "python",
   "nbconvert_exporter": "python",
   "pygments_lexer": "ipython3",
   "version": "3.9.7"
  },
  "orig_nbformat": 4,
  "vscode": {
   "interpreter": {
    "hash": "93f326a86e95cccf1066019d174ccc820708358a14e0497c3fe3dbe6aed1f560"
   }
  }
 },
 "nbformat": 4,
 "nbformat_minor": 2
}
